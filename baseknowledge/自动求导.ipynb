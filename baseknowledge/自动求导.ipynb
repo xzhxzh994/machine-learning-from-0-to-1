{
 "cells": [
  {
   "cell_type": "code",
   "execution_count": 3,
   "id": "db6de080",
   "metadata": {},
   "outputs": [
    {
     "data": {
      "text/plain": [
       "tensor([0., 1., 2., 3.])"
      ]
     },
     "execution_count": 3,
     "metadata": {},
     "output_type": "execute_result"
    }
   ],
   "source": [
    "#自动求导\n",
    "import torch\n",
    "\n",
    "x = torch.arange(4.0)#创建一个梯度\n",
    "x"
   ]
  },
  {
   "cell_type": "code",
   "execution_count": 4,
   "id": "2b4fbb7a",
   "metadata": {},
   "outputs": [],
   "source": [
    "#假设y = x*x ，我们要计算y关于x的梯度，我们需要将这个值保存，所以我们需要为梯度开辟一个空间\n",
    "#梯度是保存在x中的，设置梯度是在x上设置\n",
    "x.requires_grad_(True)\n",
    "x.grad #默认是none"
   ]
  },
  {
   "cell_type": "code",
   "execution_count": 5,
   "id": "7b1fb243",
   "metadata": {},
   "outputs": [
    {
     "data": {
      "text/plain": [
       "tensor(28., grad_fn=<MulBackward0>)"
      ]
     },
     "execution_count": 5,
     "metadata": {},
     "output_type": "execute_result"
    }
   ],
   "source": [
    "y = 2 * torch.dot(x,x)\n",
    "y"
   ]
  },
  {
   "cell_type": "code",
   "execution_count": 7,
   "id": "43b1cb45",
   "metadata": {},
   "outputs": [
    {
     "data": {
      "text/plain": [
       "tensor([ 0.,  4.,  8., 12.])"
      ]
     },
     "execution_count": 7,
     "metadata": {},
     "output_type": "execute_result"
    }
   ],
   "source": [
    "y.backward()\n",
    "x.grad"
   ]
  },
  {
   "cell_type": "code",
   "execution_count": 8,
   "id": "9e98cdc2",
   "metadata": {},
   "outputs": [
    {
     "data": {
      "text/plain": [
       "tensor([True, True, True, True])"
      ]
     },
     "execution_count": 8,
     "metadata": {},
     "output_type": "execute_result"
    }
   ],
   "source": [
    "#理论上：y对x求导的结果 ： 4* x\n",
    "x.grad == 4*x"
   ]
  },
  {
   "cell_type": "code",
   "execution_count": null,
   "id": "69257081",
   "metadata": {},
   "outputs": [
    {
     "data": {
      "text/plain": [
       "tensor([1., 1., 1., 1.])"
      ]
     },
     "execution_count": 16,
     "metadata": {},
     "output_type": "execute_result"
    }
   ],
   "source": [
    "#默认情况下，pytorch会累积梯度\n",
    "#我们需要grad_zero_()清理\n",
    "#x.grad.zero_()\n",
    "\n",
    "new_y =  x.sum()\n",
    "new_y.backward()\n",
    "x.grad"
   ]
  }
 ],
 "metadata": {
  "kernelspec": {
   "display_name": "cs149",
   "language": "python",
   "name": "python3"
  },
  "language_info": {
   "codemirror_mode": {
    "name": "ipython",
    "version": 3
   },
   "file_extension": ".py",
   "mimetype": "text/x-python",
   "name": "python",
   "nbconvert_exporter": "python",
   "pygments_lexer": "ipython3",
   "version": "3.9.24"
  }
 },
 "nbformat": 4,
 "nbformat_minor": 5
}
