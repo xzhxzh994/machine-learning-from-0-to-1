{
 "cells": [
  {
   "cell_type": "code",
   "execution_count": 8,
   "id": "2c392aa6",
   "metadata": {},
   "outputs": [],
   "source": [
    "#我们希望得到一个 y = Wx + b + sigma\n",
    "def create_data(w,b,num_examples):\n",
    "    #w的size是对应了特征维度的偏差\n",
    "    #b也是\n",
    "    #num_examples是样本数量\n",
    "    X = torch.normal(0,1,(num_examples,len(w)))#先生成X\n",
    "    y = torch.matmul(X,w)+b#根据x生成y//这里用的是matmul，所以X*w变成了一列，但是是一维的，我们希望它是二维的\n",
    "    y += torch.normal(0,0.01,y.shape)#在加上偏差\n",
    "    return X,y.reshape((-1,1))\n",
    "    #y.reshape((-1, 1)) 确保标签 y 是列向量（形状为 (样本数, 1)），方便后续与模型输出（通常也是列向量）计算损失。\n",
    "    #而 -1 是一个特殊值，它的含义是：“根据另一个维度的大小和总元素数，自动计算当前维度的大小”。"
   ]
  },
  {
   "cell_type": "code",
   "execution_count": 12,
   "id": "feefcced",
   "metadata": {},
   "outputs": [],
   "source": [
    "import torch\n",
    "\n",
    "\n",
    "true_w = torch.tensor([2,-3.4])\n",
    "true_b = 4.2\n",
    "features,labels = create_data(true_w,true_b,1000)"
   ]
  },
  {
   "cell_type": "code",
   "execution_count": 14,
   "id": "aff07306",
   "metadata": {},
   "outputs": [],
   "source": [
    "import random\n",
    "def data_iter(batch_size, features, labels):\n",
    "    num_examples = len(features)  # 获取总样本数（如1000个样本）\n",
    "    indices = list(range(num_examples))  # 生成样本索引列表（如[0,1,2,...,999]）\n",
    "    # 随机打乱索引：让样本顺序随机化，避免模型学习到数据顺序的规律\n",
    "    random.shuffle(indices)\n",
    "    # 按批次遍历所有样本：从0开始，每次跳batch_size步\n",
    "    for i in range(0, num_examples, batch_size):\n",
    "        # 取当前批次的索引：从i到i+batch_size（最后一批可能不足batch_size，用min处理）\n",
    "        batch_indices = torch.tensor(\n",
    "            indices[i: min(i + batch_size, num_examples)]\n",
    "        )\n",
    "        # 用生成器（yield）返回当前批次的特征和标签\n",
    "        yield features[batch_indices], labels[batch_indices]"
   ]
  },
  {
   "cell_type": "code",
   "execution_count": 19,
   "id": "d5cb4cc9",
   "metadata": {},
   "outputs": [],
   "source": [
    "\n",
    "\n",
    "w = torch.normal(0, 0.01, size=(2,1), requires_grad=True)\n",
    "b = torch.zeros(1, requires_grad=True)"
   ]
  },
  {
   "cell_type": "code",
   "execution_count": 20,
   "id": "c8aee3b9",
   "metadata": {},
   "outputs": [],
   "source": [
    "#y = wx + b 定义函数\n",
    "def linear(X,w,b):\n",
    "    return torch.matmul(X,w) + b"
   ]
  },
  {
   "cell_type": "code",
   "execution_count": null,
   "id": "6f6c7e47",
   "metadata": {},
   "outputs": [],
   "source": [
    "#定义损失\n",
    "def loss(y_hat,y):\n",
    "    return (y_hat - y.reshape(y_hat.shape))**2 / 2"
   ]
  },
  {
   "cell_type": "code",
   "execution_count": null,
   "id": "d3628e9f",
   "metadata": {},
   "outputs": [],
   "source": [
    "#定义sgd\n",
    "def sgd(params,lr,batch_size):\n",
    "    \"\"\"小批量随机梯度下降\"\"\"\n",
    "    \"\"\"所谓随机指的是每次更新的数据样本是随机选择的，而不是固定选择的\"\"\"\n",
    "    with torch.no_grad():#临时关闭张量的梯度计算功能\n",
    "        for param in params:\n",
    "            param -= lr * param.grad / batch_size\n",
    "            param.grad.zero_()\n"
   ]
  },
  {
   "cell_type": "markdown",
   "id": "ca943075",
   "metadata": {},
   "source": [
    "什么是SGD随机梯度下降（Stochastic Gradient Descent, SGD）\n",
    "首先：我们希望不断优化，让损失最小\n",
    "所以我们需要梯度下降优化器\n",
    "也就是说我们根据损失来求导，计算出梯度，然后使用lr来控制每次调整的幅度\n"
   ]
  }
 ],
 "metadata": {
  "kernelspec": {
   "display_name": "cs149",
   "language": "python",
   "name": "python3"
  },
  "language_info": {
   "codemirror_mode": {
    "name": "ipython",
    "version": 3
   },
   "file_extension": ".py",
   "mimetype": "text/x-python",
   "name": "python",
   "nbconvert_exporter": "python",
   "pygments_lexer": "ipython3",
   "version": "3.9.24"
  }
 },
 "nbformat": 4,
 "nbformat_minor": 5
}
