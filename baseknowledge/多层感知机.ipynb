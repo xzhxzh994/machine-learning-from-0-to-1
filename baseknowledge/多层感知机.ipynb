{
 "cells": [
  {
   "cell_type": "markdown",
   "id": "83a6817d",
   "metadata": {},
   "source": [
    "# 线性模型可能会出错\n",
    "\n",
    "线性意味着**单调**  假设： 任何特征的增大都会导致模型输出的增大（如果对应的权重为正）， 或者导致模型输出的减小（如果对应的权重为负）。  \n",
    "对于一些问题来说,输入和输出之间可能不是线性关系:\n",
    "例如，如果我们试图预测一个人是否会偿还贷款。 \n",
    "我们可以认为，在其他条件不变的情况下， 收入较高的申请人比收入较低的申请人更有可能偿还贷款。   \n",
    "但是，虽然收入与还款概率存在**单调性**，但它们不是线性相关的。  \n",
    "收入从0增加到5万，可能比从100万增加到105万带来更大的还款可能性。  \n",
    "处理这一问题的一种方法是对我们的数据进行预处理， **使线性变得更合理**，如使用收入的对数作为我们的特征。  \n",
    "  \n",
    "然而我们可以很容易找出违反单调性的例子，例如：  \n",
    "们想要根据体温预测死亡率。 对体温高于37摄氏度的人来说，温度越高风险越大。 然而，对体温低于37摄氏度的人来说，温度越高风险就越低。 \n",
    "在这种情况下，我们也可以通过一些巧妙的预处理来解决问题。 例如，我们可以使用**与37摄氏度的距离**作为特征。  \n",
    "  \n",
    "但是，如何对猫和狗的图像进行分类呢？   \n",
    "增加位置(13,17)处像素的强度是否总是增加（或降低）图像描绘狗的似然？   \n",
    "对 **线性模型的依赖**对应于一个隐含的假设， 即区分猫和狗的唯一要求是评估单个像素的强度。  \n",
    "在一个倒置图像后依然保留类别的世界里，这种方法注定会失败。  \n",
    "\n",
    "\n",
    "# 在网络中加入隐藏层\n",
    "可以通过在网络中加入  **一个或多个隐藏层**  来克服线性模型的限制  \n",
    "最简单的方法是将许多全连接层堆叠在一起。 每一层都输出到上面的层，直到生成最后的输出。   \n",
    "我们可以把前层看作表示，把最后一层看作线性预测器。  \n",
    "我们称之为  **MLP**"
   ]
  },
  {
   "cell_type": "markdown",
   "id": "e7d8b70c",
   "metadata": {},
   "source": [
    "# 从线性到非线性\n",
    "假设我们不引入非线性的操作，那么对任意输入X,对应的隐藏层H关系为:\n",
    "$$H = XW^{(1)} + b^{(1)}$$\n",
    "而对于H 和输出 O 的关系为:\n",
    "$$O = HW^{(2)} + b^{(2)}$$\n",
    "显然有:\n",
    "$$O = XW^{(1)}W^{(2)} + b^{(1)}W^{(2)}+b^{(2)}$$\n",
    "等价于\n",
    "$$O = XW^{(3)} + b^{(3)}$$\n",
    "其中\n",
    "$$W^{(3)} = W^{(1)}W^{(2)} \\quad b^{(3)} =b^{(1)}W^{(2)}+b^{(2)} $$\n",
    "因此，假如不引入非线性操作，我们的两层关系将会毫无意义。  \n",
    "  \n",
    "为了发挥多层架构的潜力， 我们还需要一个额外的关键要素： 在仿射变换之后对每个隐藏单元应用非线性的激活函数（activation function）\n",
    "。 激活函数的输出:被称为活性值（activations）。 一般来说，有了激活函数，就不可能再将我们的多层感知机退化成线性模型：\n",
    "计激活函数为 $\\sigma$  \n",
    "有:  \n",
    "$$H = \\sigma(XW^{(1)} + b^{(1)})$$\n",
    "$$O = HW^{(2)} + b^{(2)}$$\n",
    "这样我们便引入了非线性关系"
   ]
  },
  {
   "cell_type": "markdown",
   "id": "40f5350c",
   "metadata": {},
   "source": [
    "# 常见激活函数\n",
    "  \n",
    "## Relu\n",
    "$$ Relu(x) = max(x,0) $$\n",
    "## sigmoid\n",
    "$$ sigmoid(x) = \\frac{1}{1+exp(-x)}$$\n",
    "## tanh\n",
    "$$ tanh(x) = \\frac{1-exp(-2x)}{1+exp(-2x)}$$"
   ]
  },
  {
   "cell_type": "markdown",
   "id": "1c5f1a21",
   "metadata": {},
   "source": [
    "# 从零开始实现多层感知机"
   ]
  },
  {
   "cell_type": "code",
   "execution_count": 24,
   "id": "eee04e09",
   "metadata": {},
   "outputs": [],
   "source": [
    "\n",
    "from torch.utils import data\n",
    "from torchvision import transforms\n",
    "import torchvision\n",
    "import matplotlib.pyplot as plt\n",
    "import numpy as np\n",
    "import torch\n",
    "from torch import nn "
   ]
  },
  {
   "cell_type": "code",
   "execution_count": 25,
   "id": "33dbeba6",
   "metadata": {},
   "outputs": [],
   "source": [
    "def get_dataloader_workers():  #@save\n",
    "    \"\"\"使用4个进程来读取数据\"\"\"\n",
    "    return 4\n",
    "def load_data_fashion_mnist(batch_size, resize=None):  #@save\n",
    "    \"\"\"下载Fashion-MNIST数据集，然后将其加载到内存中\"\"\"\n",
    "    trans = [transforms.ToTensor()]\n",
    "    if resize:\n",
    "        trans.insert(0, transforms.Resize(resize))\n",
    "    trans = transforms.Compose(trans)\n",
    "    mnist_train = torchvision.datasets.FashionMNIST(\n",
    "        root=\"./data\", train=True, transform=trans, download=True)\n",
    "    mnist_test = torchvision.datasets.FashionMNIST(\n",
    "        root=\"./data\", train=False, transform=trans, download=True)\n",
    "    return (data.DataLoader(mnist_train, batch_size, shuffle=True,\n",
    "                            num_workers=get_dataloader_workers()),\n",
    "            data.DataLoader(mnist_test, batch_size, shuffle=False,\n",
    "                            num_workers=get_dataloader_workers()))"
   ]
  },
  {
   "cell_type": "code",
   "execution_count": 30,
   "id": "00e11978",
   "metadata": {},
   "outputs": [],
   "source": [
    "\n",
    "num_inputs, num_outputs, num_hiddens = 784, 10, 256\n",
    "\n",
    "W1 = nn.Parameter(torch.randn(num_inputs, num_hiddens,requires_grad = True)*0.01)\n",
    "b1 = nn.Parameter(torch.zeros(num_hiddens),requires_grad = True)\n",
    "W2 = nn.Parameter(torch.randn(num_hiddens, num_outputs,requires_grad = True)*0.01)\n",
    "b2 = nn.Parameter(torch.zeros(num_outputs),requires_grad = True)\n",
    "params = [W1, b1, W2, b2]\n",
    "\n",
    "batch_size = 256 \n",
    "train_iter, test_iter = load_data_fashion_mnist(batch_size)\n",
    "\n",
    "def relu(X):\n",
    "    a = torch.zeros_like(X)\n",
    "    return torch.max(X, a)"
   ]
  },
  {
   "cell_type": "code",
   "execution_count": 31,
   "id": "43158e65",
   "metadata": {},
   "outputs": [],
   "source": [
    "def net(X):\n",
    "    X = X.reshape((-1,num_inputs))\n",
    "    H = relu(X@W1 + b1)\n",
    "    return (H@W2 + b2)"
   ]
  },
  {
   "cell_type": "code",
   "execution_count": 28,
   "id": "49bf055f",
   "metadata": {},
   "outputs": [],
   "source": [
    "loss = nn.CrossEntropyLoss()\n",
    "#reduction 参数用于控制损失函数的输出形式，即是否对每个样本的损失值进行聚合（如求和、求平均等）。\n",
    "#'none' 不聚合\n",
    "#'mean' 求均值\n",
    "#'sum' 求总和"
   ]
  },
  {
   "cell_type": "code",
   "execution_count": 33,
   "id": "d100baec",
   "metadata": {},
   "outputs": [
    {
     "name": "stdout",
     "output_type": "stream",
     "text": [
      "Epoch 1, Loss: 1.0421, Accuracy: 0.6498\n",
      "Epoch 2, Loss: 0.6025, Accuracy: 0.7873\n",
      "Epoch 3, Loss: 0.5223, Accuracy: 0.8171\n",
      "Epoch 4, Loss: 0.4819, Accuracy: 0.8299\n",
      "Epoch 5, Loss: 0.4524, Accuracy: 0.8413\n",
      "Epoch 6, Loss: 0.4337, Accuracy: 0.8477\n",
      "Epoch 7, Loss: 0.4161, Accuracy: 0.8533\n",
      "Epoch 8, Loss: 0.4046, Accuracy: 0.8572\n",
      "Epoch 9, Loss: 0.3941, Accuracy: 0.8605\n",
      "Epoch 10, Loss: 0.3829, Accuracy: 0.8651\n"
     ]
    }
   ],
   "source": [
    "num_epoch,lr = 10,0.1\n",
    "updater = torch.optim.SGD(params,lr = lr)\n",
    "def accuracy(y_hat,y):\n",
    "    if len(y_hat.shape) > 1 and y_hat.shape[1] > 1:\n",
    "        y_hat = y_hat.argmax(axis=1)  # 取 logits 的最大值索引作为预测类别\n",
    "    cmp = y_hat.type(y.dtype) == y\n",
    "    return float(cmp.type(y.dtype).sum())\n",
    "\n",
    "\n",
    "for epoch in range(num_epoch):\n",
    "    train_l_sum = 0.0  # 总损失\n",
    "    train_acc_sum = 0.0  # 总正确数\n",
    "    n = 0  # 总样本数\n",
    "    for X,y in train_iter:\n",
    "        updater.zero_grad()\n",
    "        y_hat = net(X)\n",
    "        l = loss(y_hat,y)\n",
    "        l.backward()\n",
    "        updater.step()\n",
    "\n",
    "        train_l_sum += l.item() * y.shape[0]  # 乘以批次大小（损失函数默认返回平均值）\n",
    "        train_acc_sum += accuracy(y_hat, y)\n",
    "        n += y.shape[0]\n",
    "    train_loss = train_l_sum / n\n",
    "    train_acc = train_acc_sum / n\n",
    "    print(f'Epoch {epoch + 1}, Loss: {train_loss:.4f}, Accuracy: {train_acc:.4f}') "
   ]
  },
  {
   "cell_type": "code",
   "execution_count": 34,
   "id": "8ba167f4",
   "metadata": {},
   "outputs": [],
   "source": [
    "#标签转换\n",
    "def get_fashion_mnist_labels(labels):  #@save\n",
    "    \"\"\"返回Fashion-MNIST数据集的文本标签\"\"\"\n",
    "    text_labels = ['t-shirt', 'trouser', 'pullover', 'dress', 'coat',\n",
    "                   'sandal', 'shirt', 'sneaker', 'bag', 'ankle boot']\n",
    "    return [text_labels[int(i)] for i in labels]\n",
    "#展示图像\n",
    "def show_images(imgs, num_rows, num_cols, titles=None, scale=1.5):  #@save\n",
    "    \"\"\"绘制图像列表\"\"\"\n",
    "    figsize = (num_cols * scale, num_rows * scale)\n",
    "    _, axes = plt.subplots(num_rows, num_cols, figsize=figsize)\n",
    "    axes = axes.flatten()\n",
    "    for i, (ax, img) in enumerate(zip(axes, imgs)):\n",
    "        if torch.is_tensor(img):\n",
    "            # 图片张量\n",
    "            ax.imshow(img.numpy())\n",
    "        else:\n",
    "            # PIL图片\n",
    "            ax.imshow(img)\n",
    "        ax.axes.get_xaxis().set_visible(False)\n",
    "        ax.axes.get_yaxis().set_visible(False)\n",
    "        if titles:\n",
    "            ax.set_title(titles[i])\n",
    "    return axes"
   ]
  },
  {
   "cell_type": "code",
   "execution_count": 35,
   "id": "30cc477f",
   "metadata": {},
   "outputs": [
    {
     "data": {
      "image/png": "[encoded data removed]",
      "text/plain": [
       "<Figure size 900x150 with 6 Axes>"
      ]
     },
     "metadata": {},
     "output_type": "display_data"
    }
   ],
   "source": [
    "for X, y in test_iter:\n",
    "        break\n",
    "trues = get_fashion_mnist_labels(y)\n",
    "preds = get_fashion_mnist_labels(net(X).argmax(axis=1))\n",
    "titles = [true +'\\n' + pred for true, pred in zip(trues, preds)]\n",
    "show_images(\n",
    "    X[0:6].reshape((6, 28, 28)), 1, 6, titles=titles[0:6])\n",
    "plt.show()  # 修复问题2：调用 plt.show() 显示图像"
   ]
  },
  {
   "cell_type": "markdown",
   "id": "354ddb37",
   "metadata": {},
   "source": [
    "# MLP的简洁实现"
   ]
  },
  {
   "cell_type": "code",
   "execution_count": 41,
   "id": "cde719ed",
   "metadata": {},
   "outputs": [
    {
     "data": {
      "text/plain": [
       "Sequential(\n",
       "  (0): Flatten(start_dim=1, end_dim=-1)\n",
       "  (1): Linear(in_features=784, out_features=256, bias=True)\n",
       "  (2): ReLU()\n",
       "  (3): Linear(in_features=256, out_features=10, bias=True)\n",
       ")"
      ]
     },
     "execution_count": 41,
     "metadata": {},
     "output_type": "execute_result"
    }
   ],
   "source": [
    "net = nn.Sequential(nn.Flatten(),nn.Linear(784,256),nn.ReLU(),nn.Linear(256,10))\n",
    "def init_weights(m):\n",
    "    if type(m) == nn.Linear:\n",
    "        nn.init.normal_(m.weight, std=0.01)\n",
    "net.apply(init_weights)\n",
    "    "
   ]
  },
  {
   "cell_type": "code",
   "execution_count": 42,
   "id": "01bc7be6",
   "metadata": {},
   "outputs": [
    {
     "name": "stdout",
     "output_type": "stream",
     "text": [
      "Epoch 1, Loss: 1.0440, Accuracy: 0.6468\n",
      "Epoch 2, Loss: 0.5992, Accuracy: 0.7898\n",
      "Epoch 3, Loss: 0.5187, Accuracy: 0.8172\n",
      "Epoch 4, Loss: 0.4803, Accuracy: 0.8330\n",
      "Epoch 5, Loss: 0.4533, Accuracy: 0.8401\n",
      "Epoch 6, Loss: 0.4331, Accuracy: 0.8480\n",
      "Epoch 7, Loss: 0.4182, Accuracy: 0.8513\n",
      "Epoch 8, Loss: 0.4014, Accuracy: 0.8586\n",
      "Epoch 9, Loss: 0.3897, Accuracy: 0.8625\n",
      "Epoch 10, Loss: 0.3814, Accuracy: 0.8653\n"
     ]
    }
   ],
   "source": [
    "batch_size,lr,num_epoch  = 256,0.1,10\n",
    "loss = nn.CrossEntropyLoss()\n",
    "updater = torch.optim.SGD(net.parameters(),lr = lr)\n",
    "train_iter, test_iter = load_data_fashion_mnist(batch_size)\n",
    "\n",
    "for epoch in range(num_epoch):\n",
    "    train_l_sum = 0.0  # 总损失\n",
    "    train_acc_sum = 0.0  # 总正确数\n",
    "    n = 0  # 总样本数\n",
    "    for X,y in train_iter:\n",
    "        updater.zero_grad()\n",
    "        y_hat = net(X)\n",
    "        l = loss(y_hat,y)\n",
    "        l.backward()\n",
    "        updater.step()\n",
    "\n",
    "        train_l_sum += l.item() * y.shape[0]  # 乘以批次大小（损失函数默认返回平均值）\n",
    "        train_acc_sum += accuracy(y_hat, y)\n",
    "        n += y.shape[0]\n",
    "    train_loss = train_l_sum / n\n",
    "    train_acc = train_acc_sum / n\n",
    "    print(f'Epoch {epoch + 1}, Loss: {train_loss:.4f}, Accuracy: {train_acc:.4f}') "
   ]
  },
  {
   "cell_type": "code",
   "execution_count": 43,
   "id": "71dc24c7",
   "metadata": {},
   "outputs": [
    {
     "data": {
      "image/png": "[encoded data removed]",
      "text/plain": [
       "<Figure size 900x150 with 6 Axes>"
      ]
     },
     "metadata": {},
     "output_type": "display_data"
    }
   ],
   "source": [
    "for X, y in test_iter:\n",
    "        break\n",
    "trues = get_fashion_mnist_labels(y)\n",
    "preds = get_fashion_mnist_labels(net(X).argmax(axis=1))\n",
    "titles = [true +'\\n' + pred for true, pred in zip(trues, preds)]\n",
    "show_images(\n",
    "    X[0:6].reshape((6, 28, 28)), 1, 6, titles=titles[0:6])\n",
    "plt.show()  # 修复问题2：调用 plt.show() 显示图像"
   ]
  }
 ],
 "metadata": {
  "kernelspec": {
   "display_name": "cs149",
   "language": "python",
   "name": "python3"
  },
  "language_info": {
   "codemirror_mode": {
    "name": "ipython",
    "version": 3
   },
   "file_extension": ".py",
   "mimetype": "text/x-python",
   "name": "python",
   "nbconvert_exporter": "python",
   "pygments_lexer": "ipython3",
   "version": "3.9.24"
  }
 },
 "nbformat": 4,
 "nbformat_minor": 5
}
